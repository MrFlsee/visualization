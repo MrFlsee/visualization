{
 "cells": [
  {
   "cell_type": "code",
   "execution_count": 51,
   "metadata": {},
   "outputs": [
    {
     "name": "stdout",
     "output_type": "stream",
     "text": [
      "CPU times: user 988 µs, sys: 890 µs, total: 1.88 ms\n",
      "Wall time: 89 ms\n"
     ]
    }
   ],
   "source": [
    "%time df = spark.read.csv('311.csv', header=True)"
   ]
  },
  {
   "cell_type": "code",
   "execution_count": 52,
   "metadata": {},
   "outputs": [
    {
     "name": "stdout",
     "output_type": "stream",
     "text": [
      "+----------+--------------------+--------------------+------+--------------------+--------------------+--------------------+--------------------+------------+--------------------+--------------------+--------------------+---------------+---------------------+---------------------+------------+-------------------+--------+-------------+------+--------+----------------------+------------------------------+---------------+----------+---------+--------------------------+--------------------------+----------------------+------------------+------------+------------+--------------------+---------------------+-------------------+------------------------+---------+----------------------+--------+---------+--------+\n",
      "|Unique Key|        Created Date|         Closed Date|Agency|         Agency Name|      Complaint Type|          Descriptor|       Location Type|Incident Zip|    Incident Address|         Street Name|      Cross Street 1| Cross Street 2|Intersection Street 1|Intersection Street 2|Address Type|               City|Landmark|Facility Type|Status|Due Date|Resolution Description|Resolution Action Updated Date|Community Board|       BBL|  Borough|X Coordinate (State Plane)|Y Coordinate (State Plane)|Open Data Channel Type|Park Facility Name|Park Borough|Vehicle Type|Taxi Company Borough|Taxi Pick Up Location|Bridge Highway Name|Bridge Highway Direction|Road Ramp|Bridge Highway Segment|Latitude|Longitude|Location|\n",
      "+----------+--------------------+--------------------+------+--------------------+--------------------+--------------------+--------------------+------------+--------------------+--------------------+--------------------+---------------+---------------------+---------------------+------------+-------------------+--------+-------------+------+--------+----------------------+------------------------------+---------------+----------+---------+--------------------------+--------------------------+----------------------+------------------+------------+------------+--------------------+---------------------+-------------------+------------------------+---------+----------------------+--------+---------+--------+\n",
      "|  22735508|02/17/2012 12:00:...|02/28/2012 12:00:...|   HPD|Department of Hou...|            ELECTRIC|     ELECTRIC-WIRING|RESIDENTIAL BUILDING|       11238|  762 CLASSON AVENUE|      CLASSON AVENUE|      STERLING PLACE|ST JOHN'S PLACE|                 null|                 null|     ADDRESS|           BROOKLYN|    null|          N/A|Closed|    null|  The Department of...|          02/28/2012 12:00:...|    08 BROOKLYN|3011740036| BROOKLYN|                    995217|                    184775|               UNKNOWN|       Unspecified|    BROOKLYN|        null|                null|                 null|               null|                    null|     null|                  null|    null|     null|    null|\n",
      "|  22735680|02/17/2012 09:36:...|02/17/2012 12:00:...|  DSNY|BCC - Brooklyn North|Sanitation Condition|     12 Dead Animals|            Sidewalk|       11207|  204 SCHENCK AVENUE|      SCHENCK AVENUE|     ATLANTIC AVENUE| LIBERTY AVENUE|                 null|                 null|     ADDRESS|           BROOKLYN|    null|  DSNY Garage|Closed|    null|  The Department of...|          02/17/2012 12:00:...|    05 BROOKLYN|3039630021| BROOKLYN|                   1014952|                    185614|                 PHONE|       Unspecified|    BROOKLYN|        null|                null|                 null|               null|                    null|     null|                  null|    null|     null|    null|\n",
      "|  22735161|02/17/2012 08:31:...|02/17/2012 12:00:...|  DSNY|   BCC - Queens West|Missed Collection...|1R Missed Recycli...|            Sidewalk|       11379|      75-12 66 DRIVE|            66 DRIVE|           75 STREET|           BEND|                 null|                 null|     ADDRESS|     MIDDLE VILLAGE|    null|  DSNY Garage|Closed|    null|  The Department of...|          02/17/2012 12:00:...|      05 QUEENS|4030660036|   QUEENS|                   1018232|                    199338|                 PHONE|       Unspecified|      QUEENS|        null|                null|                 null|               null|                    null|     null|                  null|    null|     null|    null|\n",
      "|  22734007|02/17/2012 12:00:...|03/01/2012 12:00:...|   HPD|Department of Hou...|            NONCONST|              VERMIN|RESIDENTIAL BUILDING|       11218|   377 OCEAN PARKWAY|       OCEAN PARKWAY|            AVENUE C| CORTELYOU ROAD|                 null|                 null|     ADDRESS|           BROOKLYN|    null|          N/A|Closed|    null|  The Department of...|          03/01/2012 12:00:...|    12 BROOKLYN|3053750072| BROOKLYN|                    991630|                    172353|               UNKNOWN|       Unspecified|    BROOKLYN|        null|                null|                 null|               null|                    null|     null|                  null|    null|     null|    null|\n",
      "|  22735510|02/17/2012 12:00:...|02/22/2012 12:00:...|   HPD|Department of Hou...|            PLUMBING|         WATER-LEAKS|RESIDENTIAL BUILDING|       10453|2170 DR M L KING ...|DR M L KING JR BO...|HALL OF FAME TERRACE|WEST 183 STREET|                 null|                 null|     ADDRESS|              BRONX|    null|          N/A|Closed|    null|  The Department of...|          02/22/2012 12:00:...|       05 BRONX|2032110009|    BRONX|                   1009408|                    251939|               UNKNOWN|       Unspecified|       BRONX|        null|                null|                 null|               null|                    null|     null|                  null|    null|     null|    null|\n",
      "|  22733145|02/17/2012 12:00:...|02/17/2012 12:00:...|   HPD|Department of Hou...|             HEATING|                HEAT|RESIDENTIAL BUILDING|       11372|     90-10 34 AVENUE|           34 AVENUE|           90 STREET|      91 STREET|                 null|                 null|     ADDRESS|    JACKSON HEIGHTS|    null|          N/A|Closed|    null|  More than one com...|          02/17/2012 12:00:...|      03 QUEENS|4014510001|   QUEENS|                   1018219|                    214195|               UNKNOWN|       Unspecified|      QUEENS|        null|                null|                 null|               null|                    null|     null|                  null|    null|     null|    null|\n",
      "|  22731543|02/17/2012 12:00:...|02/22/2012 12:00:...|   HPD|Department of Hou...|     PAINT - PLASTER|               WALLS|RESIDENTIAL BUILDING|       10460|1715 LONGFELLOW A...|   LONGFELLOW AVENUE|     EAST 173 STREET|EAST 174 STREET|                 null|                 null|     ADDRESS|              BRONX|    null|          N/A|Closed|    null|  The Department of...|          02/22/2012 12:00:...|       03 BRONX|2030020025|    BRONX|                   1016149|                    243660|               UNKNOWN|       Unspecified|       BRONX|        null|                null|                 null|               null|                    null|     null|                  null|    null|     null|    null|\n",
      "|  22733948|02/17/2012 12:00:...|03/12/2012 12:00:...|   HPD|Department of Hou...|            PLUMBING|         WATER-LEAKS|RESIDENTIAL BUILDING|       11434|   158-13 134 AVENUE|          134 AVENUE|          158 STREET|     159 STREET|                 null|                 null|     ADDRESS|            JAMAICA|    null|          N/A|Closed|    null|  The Department of...|          03/12/2012 12:00:...|      12 QUEENS|4122830037|   QUEENS|                   1045608|                    184196|               UNKNOWN|       Unspecified|      QUEENS|        null|                null|                 null|               null|                    null|     null|                  null|    null|     null|    null|\n",
      "|  22733926|02/17/2012 12:00:...|02/23/2012 12:00:...|   HPD|Department of Hou...|            PLUMBING|             BATHTUB|RESIDENTIAL BUILDING|       10468|2851 GRAND CONCOURSE|     GRAND CONCOURSE|     EAST 198 STREET|  MINERVA PLACE|                 null|                 null|     ADDRESS|              BRONX|    null|          N/A|Closed|    null|  The Department of...|          02/23/2012 12:00:...|       07 BRONX|2033190001|    BRONX|                   1014421|                    256339|               UNKNOWN|       Unspecified|       BRONX|        null|                null|                 null|               null|                    null|     null|                  null|    null|     null|    null|\n",
      "|  22731645|02/17/2012 12:00:...|03/05/2012 12:00:...|   HPD|Department of Hou...|            PLUMBING|          BASIN/SINK|RESIDENTIAL BUILDING|       11221|   991 PUTNAM AVENUE|       PUTNAM AVENUE|        RALPH AVENUE|  HOWARD AVENUE|                 null|                 null|     ADDRESS|           BROOKLYN|    null|          N/A|Closed|    null|  The Department of...|          03/05/2012 12:00:...|    03 BROOKLYN|3014830044| BROOKLYN|                   1006006|                    189693|               UNKNOWN|       Unspecified|    BROOKLYN|        null|                null|                 null|               null|                    null|     null|                  null|    null|     null|    null|\n",
      "|  22735546|02/17/2012 12:00:...|02/24/2012 12:00:...|   HPD|Department of Hou...|GENERAL CONSTRUCTION|               FLOOR|RESIDENTIAL BUILDING|       10009|   435 EAST 9 STREET|       EAST 9 STREET|            1 AVENUE|       AVENUE A|                 null|                 null|     ADDRESS|           NEW YORK|    null|          N/A|Closed|    null|  The Department of...|          02/24/2012 12:00:...|   03 MANHATTAN|1004370035|MANHATTAN|                    988819|                    204371|               UNKNOWN|       Unspecified|   MANHATTAN|        null|                null|                 null|               null|                    null|     null|                  null|    null|     null|    null|\n",
      "|  22731762|02/17/2012 06:27:...|02/21/2012 12:00:...|   DOB|Department of Bui...|General Construct...|Egress - Doors Lo...|                null|       11419|    114-03 95 AVENUE|           95 AVENUE|                BEND|     115 STREET|                 null|                 null|     ADDRESS|SOUTH RICHMOND HILL|    null|          N/A|Closed|    null|  The Department of...|          02/21/2012 12:00:...|      09 QUEENS|4094000035|   QUEENS|                   1031064|                    191172|               UNKNOWN|       Unspecified|      QUEENS|        null|                null|                 null|               null|                    null|     null|                  null|    null|     null|    null|\n",
      "|  22733076|02/17/2012 12:00:...|03/17/2012 12:00:...|   HPD|Department of Hou...|            PLUMBING|            RADIATOR|RESIDENTIAL BUILDING|       11213| 1507 ST JOHNS PLACE|      ST JOHNS PLACE|    ROCHESTER AVENUE| BUFFALO AVENUE|                 null|                 null|     ADDRESS|           BROOKLYN|    null|          N/A|Closed|    null|  The Department of...|          03/17/2012 12:00:...|    08 BROOKLYN|3013800001| BROOKLYN|                   1004305|                    183534|               UNKNOWN|       Unspecified|    BROOKLYN|        null|                null|                 null|               null|                    null|     null|                  null|    null|     null|    null|\n",
      "|  22731496|02/17/2012 12:00:...|02/27/2012 12:00:...|   HPD|Department of Hou...|            NONCONST|              VERMIN|RESIDENTIAL BUILDING|       11226|   2105 BEVERLY ROAD|        BEVERLY ROAD|      EAST 21 STREET|FLATBUSH AVENUE|                 null|                 null|     ADDRESS|           BROOKLYN|    null|          N/A|Closed|    null|  The Department of...|          02/27/2012 12:00:...|    14 BROOKLYN|3051250077| BROOKLYN|                    995704|                    174271|               UNKNOWN|       Unspecified|    BROOKLYN|        null|                null|                 null|               null|                    null|     null|                  null|    null|     null|    null|\n",
      "|  22732355|02/17/2012 12:00:...|02/21/2012 12:00:...|   HPD|Department of Hou...|             HEATING|                HEAT|RESIDENTIAL BUILDING|       10456| 1226 SHERMAN AVENUE|      SHERMAN AVENUE|     EAST 167 STREET|EAST 168 STREET|                 null|                 null|     ADDRESS|              BRONX|    null|          N/A|Closed|    null|  The Department of...|          02/21/2012 12:00:...|       04 BRONX|2024530035|    BRONX|                   1007623|                    243271|                ONLINE|       Unspecified|       BRONX|        null|                null|                 null|               null|                    null|     null|                  null|    null|     null|    null|\n",
      "|  22734746|02/17/2012 12:00:...|02/24/2012 12:00:...|   HPD|Department of Hou...|GENERAL CONSTRUCTION|               LOCKS|RESIDENTIAL BUILDING|       11432|    150-09 88 AVENUE|           88 AVENUE|          150 STREET|     153 STREET|                 null|                 null|     ADDRESS|            JAMAICA|    null|          N/A|Closed|    null|  The Department of...|          02/24/2012 12:00:...|      12 QUEENS|4096970001|   QUEENS|                   1038087|                    196472|               UNKNOWN|       Unspecified|      QUEENS|        null|                null|                 null|               null|                    null|     null|                  null|    null|     null|    null|\n",
      "|  22735577|02/17/2012 12:00:...|03/16/2012 12:00:...|   HPD|Department of Hou...|            NONCONST|             RUBBISH|RESIDENTIAL BUILDING|       10029| 314 EAST 100 STREET|     EAST 100 STREET|            2 AVENUE|       1 AVENUE|                 null|                 null|     ADDRESS|           NEW YORK|    null|          N/A|Closed|    null|  The Department of...|          03/16/2012 12:00:...|   11 MANHATTAN|1016710043|MANHATTAN|                    999641|                    225810|               UNKNOWN|       Unspecified|   MANHATTAN|        null|                null|                 null|               null|                    null|     null|                  null|    null|     null|    null|\n",
      "|  22735461|02/17/2012 12:00:...|02/18/2012 12:00:...|   HPD|Department of Hou...|            NONCONST|              VERMIN|RESIDENTIAL BUILDING|       11226|  173 EAST 31 STREET|      EAST 31 STREET|       TILDEN AVENUE|   BEVERLY ROAD|                 null|                 null|     ADDRESS|           BROOKLYN|    null|          N/A|Closed|    null|  The Department of...|          02/18/2012 12:00:...|    17 BROOKLYN|3049160061| BROOKLYN|                    998650|                    174771|               UNKNOWN|       Unspecified|    BROOKLYN|        null|                null|                 null|               null|                    null|     null|                  null|    null|     null|    null|\n",
      "|  22731613|02/17/2012 12:00:...|03/05/2012 12:00:...|   HPD|Department of Hou...|            ELECTRIC|BELL-BUZZER/INTERCOM|RESIDENTIAL BUILDING|       11231|     15 STRONG PLACE|        STRONG PLACE|         KANE STREET| DE GRAW STREET|                 null|                 null|     ADDRESS|           BROOKLYN|    null|          N/A|Closed|    null|  The Department of...|          03/05/2012 12:00:...|    06 BROOKLYN|3003240021| BROOKLYN|                    984935|                    189152|               UNKNOWN|       Unspecified|    BROOKLYN|        null|                null|                 null|               null|                    null|     null|                  null|    null|     null|    null|\n",
      "|  22733246|02/17/2012 03:25:...|03/01/2012 11:07:...|   DOT|Department of Tra...|Street Light Cond...|    Street Light Out|                null|       11233|                null|                null|                null|           null|      ATLANTIC AVENUE|       BANCROFT PLACE|INTERSECTION|           BROOKLYN|    null|          N/A|Closed|    null|  Service Request s...|          03/01/2012 11:07:...|    03 BROOKLYN|      null| BROOKLYN|                   1006406|                    185884|               UNKNOWN|       Unspecified|    BROOKLYN|        null|                null|                 null|               null|                    null|     null|                  null|    null|     null|    null|\n",
      "+----------+--------------------+--------------------+------+--------------------+--------------------+--------------------+--------------------+------------+--------------------+--------------------+--------------------+---------------+---------------------+---------------------+------------+-------------------+--------+-------------+------+--------+----------------------+------------------------------+---------------+----------+---------+--------------------------+--------------------------+----------------------+------------------+------------+------------+--------------------+---------------------+-------------------+------------------------+---------+----------------------+--------+---------+--------+\n",
      "only showing top 20 rows\n",
      "\n"
     ]
    }
   ],
   "source": [
    "df.show()"
   ]
  },
  {
   "cell_type": "code",
   "execution_count": 53,
   "metadata": {},
   "outputs": [
    {
     "data": {
      "text/plain": [
       "[Row(Unique Key='22735508', Created Date='02/17/2012 12:00:00 AM', Closed Date='02/28/2012 12:00:00 AM', Agency='HPD', Agency Name='Department of Housing Preservation and Development', Complaint Type='ELECTRIC', Descriptor='ELECTRIC-WIRING', Location Type='RESIDENTIAL BUILDING', Incident Zip='11238', Incident Address='762 CLASSON AVENUE', Street Name='CLASSON AVENUE', Cross Street 1='STERLING PLACE', Cross Street 2=\"ST JOHN'S PLACE\", Intersection Street 1=None, Intersection Street 2=None, Address Type='ADDRESS', City='BROOKLYN', Landmark=None, Facility Type='N/A', Status='Closed', Due Date=None, Resolution Description='The Department of Housing Preservation and Development inspected the following conditions. Violations were issued. Information about specific violations is available at www.nyc.gov/hpd.', Resolution Action Updated Date='02/28/2012 12:00:00 AM', Community Board='08 BROOKLYN', BBL='3011740036', Borough='BROOKLYN', X Coordinate (State Plane)='995217', Y Coordinate (State Plane)='184775', Open Data Channel Type='UNKNOWN', Park Facility Name='Unspecified', Park Borough='BROOKLYN', Vehicle Type=None, Taxi Company Borough=None, Taxi Pick Up Location=None, Bridge Highway Name=None, Bridge Highway Direction=None, Road Ramp=None, Bridge Highway Segment=None, Latitude=None, Longitude=None, Location=None)]"
      ]
     },
     "execution_count": 53,
     "metadata": {},
     "output_type": "execute_result"
    }
   ],
   "source": [
    "df.take(1)"
   ]
  },
  {
   "cell_type": "code",
   "execution_count": null,
   "metadata": {},
   "outputs": [],
   "source": []
  }
 ],
 "metadata": {
  "kernelspec": {
   "display_name": "Python 3",
   "language": "python",
   "name": "python3"
  },
  "language_info": {
   "codemirror_mode": {
    "name": "ipython",
    "version": 3
   },
   "file_extension": ".py",
   "mimetype": "text/x-python",
   "name": "python",
   "nbconvert_exporter": "python",
   "pygments_lexer": "ipython3",
   "version": "3.7.4"
  }
 },
 "nbformat": 4,
 "nbformat_minor": 2
}
