{
 "cells": [
  {
   "cell_type": "code",
   "execution_count": 1,
   "metadata": {},
   "outputs": [
    {
     "name": "stdout",
     "output_type": "stream",
     "text": [
      "Collecting vaex\n",
      "  Downloading https://files.pythonhosted.org/packages/9b/e1/999226697c7bc77d447ea0f01c7684f24c2c83a825b8ec12d496de0ed7ea/vaex-3.0.0-py3-none-any.whl\n",
      "Collecting vaex-astro<0.8,>=0.7.0 (from vaex)\n",
      "  Downloading https://files.pythonhosted.org/packages/6b/43/a34c35d5c8006cb2e845b892913ff50e6ecaa0040465cd76151e3600491d/vaex_astro-0.7.0-py3-none-any.whl\n",
      "Collecting vaex-core<3,>=2.0.0 (from vaex)\n",
      "\u001b[?25l  Downloading https://files.pythonhosted.org/packages/5e/e0/485cacdae6a689d0fe7adbcd7bec80bdcaf9330c40c21f94fca135c6cddc/vaex_core-2.0.3-cp37-cp37m-macosx_10_9_x86_64.whl (2.8MB)\n",
      "\u001b[K     |████████████████████████████████| 2.8MB 1.1MB/s eta 0:00:01\n",
      "\u001b[?25hCollecting vaex-jupyter<0.6,>=0.5.0 (from vaex)\n",
      "\u001b[?25l  Downloading https://files.pythonhosted.org/packages/0f/b2/f35480f0091e8ef63cb9561653148c580677c2de04b33b759ef67da5f064/vaex_jupyter-0.5.2-py3-none-any.whl (42kB)\n",
      "\u001b[K     |████████████████████████████████| 51kB 751kB/s eta 0:00:011\n",
      "\u001b[?25hCollecting vaex-arrow<0.6,>=0.5.0 (from vaex)\n",
      "  Downloading https://files.pythonhosted.org/packages/e4/a2/3c38e9d55cca383beb7714226a38378b478cf77b753a2a66392b746b89d3/vaex_arrow-0.5.1-py3-none-any.whl\n",
      "Collecting vaex-server<0.4,>=0.3.0 (from vaex)\n",
      "  Downloading https://files.pythonhosted.org/packages/f2/40/576ac1e9a64240970e7e20b98788f292f043c3cff2ff118c7a3a557dc548/vaex_server-0.3.1-py3-none-any.whl\n",
      "Collecting vaex-viz<0.5,>=0.4.0 (from vaex)\n",
      "  Downloading https://files.pythonhosted.org/packages/ee/9f/abaf285f1a6ef1a3bfc3d65d3ef292e6b253d6a50555950227bff0ddb04a/vaex_viz-0.4.0-py3-none-any.whl\n",
      "Collecting vaex-ml<0.10,>=0.9.0 (from vaex)\n",
      "\u001b[?25l  Downloading https://files.pythonhosted.org/packages/6a/f6/db095215f80aa3591ea074ba539cfaf20e92043ef25af5dd2511bca2d5ec/vaex_ml-0.9.0-py3-none-any.whl (85kB)\n",
      "\u001b[K     |████████████████████████████████| 92kB 21.5MB/s eta 0:00:01\n",
      "\u001b[?25hCollecting vaex-hdf5<0.7,>=0.6.0 (from vaex)\n",
      "  Downloading https://files.pythonhosted.org/packages/4c/b9/c590661a39ab3abdfc388ffa0392ac4cbb5fc9001c59b6ff6695840d7565/vaex_hdf5-0.6.0-py3-none-any.whl\n",
      "Requirement already satisfied: astropy>=2 in /Users/swoo/.pyenv/versions/anaconda3-2019.10/lib/python3.7/site-packages (from vaex-core<3,>=2.0.0->vaex) (3.2.2)\n",
      "Collecting nest-asyncio>=1.3.3 (from vaex-core<3,>=2.0.0->vaex)\n",
      "  Downloading https://files.pythonhosted.org/packages/5c/33/10805a3359f56ac4f3b520e64b9d5e6a288d87be95777b8023c64cba60f1/nest_asyncio-1.4.3-py3-none-any.whl\n",
      "Requirement already satisfied: numpy>=1.16 in /Users/swoo/.pyenv/versions/anaconda3-2019.10/lib/python3.7/site-packages (from vaex-core<3,>=2.0.0->vaex) (1.17.2)\n",
      "Collecting tabulate>=0.8.3 (from vaex-core<3,>=2.0.0->vaex)\n",
      "  Downloading https://files.pythonhosted.org/packages/c4/f4/770ae9385990f5a19a91431163d262182d3203662ea2b5739d0fcfc080f1/tabulate-0.8.7-py3-none-any.whl\n",
      "Requirement already satisfied: six in /Users/swoo/.pyenv/versions/anaconda3-2019.10/lib/python3.7/site-packages (from vaex-core<3,>=2.0.0->vaex) (1.12.0)\n",
      "Requirement already satisfied: requests in /Users/swoo/.pyenv/versions/anaconda3-2019.10/lib/python3.7/site-packages (from vaex-core<3,>=2.0.0->vaex) (2.22.0)\n",
      "Requirement already satisfied: cloudpickle in /Users/swoo/.pyenv/versions/anaconda3-2019.10/lib/python3.7/site-packages (from vaex-core<3,>=2.0.0->vaex) (1.4.1)\n",
      "Requirement already satisfied: pandas in /Users/swoo/.pyenv/versions/anaconda3-2019.10/lib/python3.7/site-packages (from vaex-core<3,>=2.0.0->vaex) (1.1.4)\n",
      "Collecting aplus (from vaex-core<3,>=2.0.0->vaex)\n",
      "  Downloading https://files.pythonhosted.org/packages/9a/25/58f13028bc43c2d219e32402995275ed577cb02da7e43876a4020727c66a/aplus-0.11.0.tar.gz\n",
      "Requirement already satisfied: future>=0.15.2 in /Users/swoo/.pyenv/versions/anaconda3-2019.10/lib/python3.7/site-packages (from vaex-core<3,>=2.0.0->vaex) (0.17.1)\n",
      "Collecting progressbar2 (from vaex-core<3,>=2.0.0->vaex)\n",
      "  Downloading https://files.pythonhosted.org/packages/25/8c/d28cd70b6e0b870a2d2a151bdbecf4c678199d31731edb44fc8035d3bb6d/progressbar2-3.53.1-py2.py3-none-any.whl\n",
      "Requirement already satisfied: pyyaml in /Users/swoo/.pyenv/versions/anaconda3-2019.10/lib/python3.7/site-packages (from vaex-core<3,>=2.0.0->vaex) (5.1.2)\n",
      "Requirement already satisfied: dask[array] in /Users/swoo/.pyenv/versions/anaconda3-2019.10/lib/python3.7/site-packages (from vaex-core<3,>=2.0.0->vaex) (2.19.0)\n",
      "Requirement already satisfied: psutil>=1.2.1 in /Users/swoo/.pyenv/versions/anaconda3-2019.10/lib/python3.7/site-packages (from vaex-core<3,>=2.0.0->vaex) (5.6.3)\n",
      "Collecting xarray (from vaex-jupyter<0.6,>=0.5.0->vaex)\n",
      "\u001b[?25l  Downloading https://files.pythonhosted.org/packages/10/6f/9aa15b1f9001593d51a0e417a8ad2127ef384d08129a0720b3599133c1ed/xarray-0.16.2-py3-none-any.whl (736kB)\n",
      "\u001b[K     |████████████████████████████████| 737kB 17.9MB/s eta 0:00:01\n",
      "\u001b[?25hCollecting bqplot>=0.10.1 (from vaex-jupyter<0.6,>=0.5.0->vaex)\n",
      "\u001b[?25l  Downloading https://files.pythonhosted.org/packages/f1/cc/bbb3989709ff5f43a75d8cc9989b0cd7215bb50af30f6323ad9bb62e1839/bqplot-0.12.19-py2.py3-none-any.whl (982kB)\n",
      "\u001b[K     |████████████████████████████████| 983kB 22.0MB/s eta 0:00:01\n",
      "\u001b[?25hCollecting ipyvuetify<2,>=1.2.2 (from vaex-jupyter<0.6,>=0.5.0->vaex)\n",
      "\u001b[?25l  Downloading https://files.pythonhosted.org/packages/e3/a0/9eaa1a2cf9952c86c675dd1a43d033d8218f7b5af07c1ad6a4999fe79971/ipyvuetify-1.5.1-py2.py3-none-any.whl (6.6MB)\n",
      "\u001b[K     |████████████████████████████████| 6.6MB 10.2MB/s eta 0:00:01\n",
      "\u001b[?25hCollecting ipyleaflet (from vaex-jupyter<0.6,>=0.5.0->vaex)\n",
      "\u001b[?25l  Downloading https://files.pythonhosted.org/packages/75/71/fd1d7ebb355b0b295f828e455a2309b119cc99f8cd1b8cb8d91c160fa937/ipyleaflet-0.13.4-py2.py3-none-any.whl (5.1MB)\n",
      "\u001b[K     |████████████████████████████████| 5.1MB 679kB/s eta 0:00:01\n",
      "\u001b[?25hCollecting ipyvolume>=0.4 (from vaex-jupyter<0.6,>=0.5.0->vaex)\n",
      "\u001b[?25l  Downloading https://files.pythonhosted.org/packages/c4/be/09982f3bce56da844c5ee4642a8bfae9908e61d7e6999e7e91479cc64b6a/ipyvolume-0.5.2-py2.py3-none-any.whl (2.9MB)\n",
      "\u001b[K     |████████████████████████████████| 2.9MB 6.8MB/s eta 0:00:01\n",
      "\u001b[?25hCollecting ipympl (from vaex-jupyter<0.6,>=0.5.0->vaex)\n",
      "\u001b[?25l  Downloading https://files.pythonhosted.org/packages/d9/c9/86b04005022b7858785372022d818356cf7aa6153195276ef7d89211d0ae/ipympl-0.6.1-py2.py3-none-any.whl (107kB)\n",
      "\u001b[K     |████████████████████████████████| 112kB 9.4MB/s eta 0:00:01\n",
      "\u001b[?25hRequirement already satisfied: pyarrow>=0.15 in /Users/swoo/.pyenv/versions/anaconda3-2019.10/lib/python3.7/site-packages (from vaex-arrow<0.6,>=0.5.0->vaex) (1.0.0)\n",
      "Requirement already satisfied: pillow in /Users/swoo/.pyenv/versions/anaconda3-2019.10/lib/python3.7/site-packages (from vaex-arrow<0.6,>=0.5.0->vaex) (6.2.0)\n",
      "Requirement already satisfied: matplotlib>=1.3.1 in /Users/swoo/.pyenv/versions/anaconda3-2019.10/lib/python3.7/site-packages (from vaex-arrow<0.6,>=0.5.0->vaex) (3.1.1)\n",
      "Requirement already satisfied: tornado>4.1 in /Users/swoo/.pyenv/versions/anaconda3-2019.10/lib/python3.7/site-packages (from vaex-server<0.4,>=0.3.0->vaex) (6.0.3)\n",
      "Requirement already satisfied: cachetools in /Users/swoo/.pyenv/versions/anaconda3-2019.10/lib/python3.7/site-packages (from vaex-server<0.4,>=0.3.0->vaex) (4.2.0)\n",
      "Requirement already satisfied: traitlets in /Users/swoo/.pyenv/versions/anaconda3-2019.10/lib/python3.7/site-packages (from vaex-ml<0.10,>=0.9.0->vaex) (4.3.3)\n",
      "Requirement already satisfied: numba in /Users/swoo/.pyenv/versions/anaconda3-2019.10/lib/python3.7/site-packages (from vaex-ml<0.10,>=0.9.0->vaex) (0.45.1)\n",
      "Requirement already satisfied: jinja2 in /Users/swoo/.pyenv/versions/anaconda3-2019.10/lib/python3.7/site-packages (from vaex-ml<0.10,>=0.9.0->vaex) (2.10.3)\n",
      "Collecting s3fs<0.3 (from vaex-hdf5<0.7,>=0.6.0->vaex)\n",
      "\u001b[?25l  Downloading https://files.pythonhosted.org/packages/c0/fa/10093c48f0def7878f8945429c699e36d73e49b90a282ace2b7a553ed020/s3fs-0.2.2.tar.gz (47kB)\n",
      "\u001b[K     |████████████████████████████████| 51kB 8.9MB/s eta 0:00:01\n",
      "\u001b[?25hRequirement already satisfied: h5py>=2.9 in /Users/swoo/.pyenv/versions/anaconda3-2019.10/lib/python3.7/site-packages (from vaex-hdf5<0.7,>=0.6.0->vaex) (2.9.0)\n",
      "Requirement already satisfied: urllib3!=1.25.0,!=1.25.1,<1.26,>=1.21.1 in /Users/swoo/.pyenv/versions/anaconda3-2019.10/lib/python3.7/site-packages (from requests->vaex-core<3,>=2.0.0->vaex) (1.24.2)\n",
      "Requirement already satisfied: chardet<3.1.0,>=3.0.2 in /Users/swoo/.pyenv/versions/anaconda3-2019.10/lib/python3.7/site-packages (from requests->vaex-core<3,>=2.0.0->vaex) (3.0.4)\n",
      "Requirement already satisfied: certifi>=2017.4.17 in /Users/swoo/.pyenv/versions/anaconda3-2019.10/lib/python3.7/site-packages (from requests->vaex-core<3,>=2.0.0->vaex) (2019.9.11)\n",
      "Requirement already satisfied: idna<2.9,>=2.5 in /Users/swoo/.pyenv/versions/anaconda3-2019.10/lib/python3.7/site-packages (from requests->vaex-core<3,>=2.0.0->vaex) (2.8)\n",
      "Requirement already satisfied: pytz>=2017.2 in /Users/swoo/.pyenv/versions/anaconda3-2019.10/lib/python3.7/site-packages (from pandas->vaex-core<3,>=2.0.0->vaex) (2019.3)\n",
      "Requirement already satisfied: python-dateutil>=2.7.3 in /Users/swoo/.pyenv/versions/anaconda3-2019.10/lib/python3.7/site-packages (from pandas->vaex-core<3,>=2.0.0->vaex) (2.8.0)\n"
     ]
    },
    {
     "name": "stdout",
     "output_type": "stream",
     "text": [
      "Collecting python-utils>=2.3.0 (from progressbar2->vaex-core<3,>=2.0.0->vaex)\n",
      "  Downloading https://files.pythonhosted.org/packages/d9/ff/623dfa533f3277199957229f053fdb2c73a9c18048680e1899c9a5c95e6b/python_utils-2.4.0-py2.py3-none-any.whl\n",
      "Requirement already satisfied: toolz>=0.8.2; extra == \"array\" in /Users/swoo/.pyenv/versions/anaconda3-2019.10/lib/python3.7/site-packages (from dask[array]->vaex-core<3,>=2.0.0->vaex) (0.10.0)\n",
      "Requirement already satisfied: setuptools>=38.4 in /Users/swoo/.pyenv/versions/anaconda3-2019.10/lib/python3.7/site-packages (from xarray->vaex-jupyter<0.6,>=0.5.0->vaex) (41.4.0)\n",
      "Requirement already satisfied: ipywidgets>=7.5.0 in /Users/swoo/.pyenv/versions/anaconda3-2019.10/lib/python3.7/site-packages (from bqplot>=0.10.1->vaex-jupyter<0.6,>=0.5.0->vaex) (7.5.1)\n",
      "Collecting traittypes>=0.0.6 (from bqplot>=0.10.1->vaex-jupyter<0.6,>=0.5.0->vaex)\n",
      "  Downloading https://files.pythonhosted.org/packages/9c/d1/8d5bd662703cc1764d986f6908a608777305946fa634d34c470cd4a1e729/traittypes-0.2.1-py2.py3-none-any.whl\n",
      "Collecting ipyvue<2,>=1.4 (from ipyvuetify<2,>=1.2.2->vaex-jupyter<0.6,>=0.5.0->vaex)\n",
      "\u001b[?25l  Downloading https://files.pythonhosted.org/packages/ab/f6/6e68eb6fc0381e904331f341331a7af387d739967b3e7e8988fdccaca522/ipyvue-1.4.1-py2.py3-none-any.whl (2.5MB)\n",
      "\u001b[K     |████████████████████████████████| 2.5MB 1.1MB/s eta 0:00:01\n",
      "\u001b[?25hCollecting shapely (from ipyleaflet->vaex-jupyter<0.6,>=0.5.0->vaex)\n",
      "\u001b[?25l  Downloading https://files.pythonhosted.org/packages/21/23/c7e6882fbb9239d54b6794a7f1a78125a53f172751bdbdaf17463101f464/Shapely-1.7.1-cp37-cp37m-macosx_10_9_x86_64.whl (1.0MB)\n",
      "\u001b[K     |████████████████████████████████| 1.0MB 5.4MB/s eta 0:00:01\n",
      "\u001b[?25hCollecting branca<0.5,>=0.3.1 (from ipyleaflet->vaex-jupyter<0.6,>=0.5.0->vaex)\n",
      "  Downloading https://files.pythonhosted.org/packages/61/1f/570b0615c452265d57e4114e633231d6cd9b9d275256778a675681e4f711/branca-0.4.2-py3-none-any.whl\n",
      "Collecting ipywebrtc (from ipyvolume>=0.4->vaex-jupyter<0.6,>=0.5.0->vaex)\n",
      "\u001b[?25l  Downloading https://files.pythonhosted.org/packages/65/6b/b78b2b6f96fb2299eebae3083d3625cedb62a35ddc9815897f25c8093edd/ipywebrtc-0.5.0-py2.py3-none-any.whl (1.1MB)\n",
      "\u001b[K     |████████████████████████████████| 1.1MB 5.0MB/s eta 0:00:01\n",
      "\u001b[?25hCollecting pythreejs>=1.0.0 (from ipyvolume>=0.4->vaex-jupyter<0.6,>=0.5.0->vaex)\n",
      "\u001b[?25l  Downloading https://files.pythonhosted.org/packages/85/8b/160380c438c9ab8a131734a9f441a790e47c3ba9802cfa098f6775b450fd/pythreejs-2.2.1-py2.py3-none-any.whl (3.3MB)\n",
      "\u001b[K     |████████████████████████████████| 3.3MB 6.3MB/s eta 0:00:01\n",
      "\u001b[?25hRequirement already satisfied: ipykernel>=4.7 in /Users/swoo/.pyenv/versions/anaconda3-2019.10/lib/python3.7/site-packages (from ipympl->vaex-jupyter<0.6,>=0.5.0->vaex) (5.1.2)\n",
      "Requirement already satisfied: cycler>=0.10 in /Users/swoo/.pyenv/versions/anaconda3-2019.10/lib/python3.7/site-packages (from matplotlib>=1.3.1->vaex-arrow<0.6,>=0.5.0->vaex) (0.10.0)\n",
      "Requirement already satisfied: kiwisolver>=1.0.1 in /Users/swoo/.pyenv/versions/anaconda3-2019.10/lib/python3.7/site-packages (from matplotlib>=1.3.1->vaex-arrow<0.6,>=0.5.0->vaex) (1.1.0)\n",
      "Requirement already satisfied: pyparsing!=2.0.4,!=2.1.2,!=2.1.6,>=2.0.1 in /Users/swoo/.pyenv/versions/anaconda3-2019.10/lib/python3.7/site-packages (from matplotlib>=1.3.1->vaex-arrow<0.6,>=0.5.0->vaex) (2.4.2)\n",
      "Requirement already satisfied: ipython-genutils in /Users/swoo/.pyenv/versions/anaconda3-2019.10/lib/python3.7/site-packages (from traitlets->vaex-ml<0.10,>=0.9.0->vaex) (0.2.0)\n",
      "Requirement already satisfied: decorator in /Users/swoo/.pyenv/versions/anaconda3-2019.10/lib/python3.7/site-packages (from traitlets->vaex-ml<0.10,>=0.9.0->vaex) (4.4.0)\n",
      "Requirement already satisfied: llvmlite>=0.29.0dev0 in /Users/swoo/.pyenv/versions/anaconda3-2019.10/lib/python3.7/site-packages (from numba->vaex-ml<0.10,>=0.9.0->vaex) (0.29.0)\n",
      "Requirement already satisfied: MarkupSafe>=0.23 in /Users/swoo/.pyenv/versions/anaconda3-2019.10/lib/python3.7/site-packages (from jinja2->vaex-ml<0.10,>=0.9.0->vaex) (1.1.1)\n",
      "Collecting boto3>=1.9.91 (from s3fs<0.3->vaex-hdf5<0.7,>=0.6.0->vaex)\n",
      "\u001b[?25l  Downloading https://files.pythonhosted.org/packages/87/ad/aa52a43d843a6b33f9e34abe29d04c7a039502fb34d2d53a11b1cb30a41b/boto3-1.16.48.tar.gz (99kB)\n",
      "\u001b[K     |████████████████████████████████| 102kB 6.9MB/s ta 0:00:011\n",
      "\u001b[?25hCollecting botocore>=1.12.91 (from s3fs<0.3->vaex-hdf5<0.7,>=0.6.0->vaex)\n",
      "\u001b[?25l  Downloading https://files.pythonhosted.org/packages/3c/ca/58881976b6b7e9b356c6a9aed35678d1f56e3a708e418f8ab3a5b216d271/botocore-1.19.48-py2.py3-none-any.whl (7.2MB)\n",
      "\u001b[K     |████████████████████████████████| 7.2MB 8.6MB/s eta 0:00:01\n",
      "\u001b[?25hRequirement already satisfied: widgetsnbextension~=3.5.0 in /Users/swoo/.pyenv/versions/anaconda3-2019.10/lib/python3.7/site-packages (from ipywidgets>=7.5.0->bqplot>=0.10.1->vaex-jupyter<0.6,>=0.5.0->vaex) (3.5.1)\n",
      "Requirement already satisfied: ipython>=4.0.0; python_version >= \"3.3\" in /Users/swoo/.pyenv/versions/anaconda3-2019.10/lib/python3.7/site-packages (from ipywidgets>=7.5.0->bqplot>=0.10.1->vaex-jupyter<0.6,>=0.5.0->vaex) (7.8.0)\n",
      "Requirement already satisfied: nbformat>=4.2.0 in /Users/swoo/.pyenv/versions/anaconda3-2019.10/lib/python3.7/site-packages (from ipywidgets>=7.5.0->bqplot>=0.10.1->vaex-jupyter<0.6,>=0.5.0->vaex) (4.4.0)\n",
      "Collecting ipydatawidgets>=1.1.1 (from pythreejs>=1.0.0->ipyvolume>=0.4->vaex-jupyter<0.6,>=0.5.0->vaex)\n",
      "\u001b[?25l  Downloading https://files.pythonhosted.org/packages/5d/58/9ec5a0e1653ffc762674370c4ebbcb5132b9c0691942a8c9a805a8b80b5e/ipydatawidgets-4.2.0-py2.py3-none-any.whl (275kB)\n",
      "\u001b[K     |████████████████████████████████| 276kB 6.0MB/s eta 0:00:01\n",
      "\u001b[?25hRequirement already satisfied: jupyter-client in /Users/swoo/.pyenv/versions/anaconda3-2019.10/lib/python3.7/site-packages (from ipykernel>=4.7->ipympl->vaex-jupyter<0.6,>=0.5.0->vaex) (5.3.3)\n",
      "Requirement already satisfied: jmespath<1.0.0,>=0.7.1 in /Users/swoo/.pyenv/versions/anaconda3-2019.10/lib/python3.7/site-packages (from boto3>=1.9.91->s3fs<0.3->vaex-hdf5<0.7,>=0.6.0->vaex) (0.10.0)\n",
      "Collecting s3transfer<0.4.0,>=0.3.0 (from boto3>=1.9.91->s3fs<0.3->vaex-hdf5<0.7,>=0.6.0->vaex)\n",
      "\u001b[?25l  Downloading https://files.pythonhosted.org/packages/69/79/e6afb3d8b0b4e96cefbdc690f741d7dd24547ff1f94240c997a26fa908d3/s3transfer-0.3.3-py2.py3-none-any.whl (69kB)\n",
      "\u001b[K     |████████████████████████████████| 71kB 9.2MB/s eta 0:00:011\n",
      "\u001b[?25hRequirement already satisfied: notebook>=4.4.1 in /Users/swoo/.pyenv/versions/anaconda3-2019.10/lib/python3.7/site-packages (from widgetsnbextension~=3.5.0->ipywidgets>=7.5.0->bqplot>=0.10.1->vaex-jupyter<0.6,>=0.5.0->vaex) (6.0.1)\n",
      "Requirement already satisfied: pexpect; sys_platform != \"win32\" in /Users/swoo/.pyenv/versions/anaconda3-2019.10/lib/python3.7/site-packages (from ipython>=4.0.0; python_version >= \"3.3\"->ipywidgets>=7.5.0->bqplot>=0.10.1->vaex-jupyter<0.6,>=0.5.0->vaex) (4.7.0)\n",
      "Requirement already satisfied: appnope; sys_platform == \"darwin\" in /Users/swoo/.pyenv/versions/anaconda3-2019.10/lib/python3.7/site-packages (from ipython>=4.0.0; python_version >= \"3.3\"->ipywidgets>=7.5.0->bqplot>=0.10.1->vaex-jupyter<0.6,>=0.5.0->vaex) (0.1.0)\n",
      "Requirement already satisfied: backcall in /Users/swoo/.pyenv/versions/anaconda3-2019.10/lib/python3.7/site-packages (from ipython>=4.0.0; python_version >= \"3.3\"->ipywidgets>=7.5.0->bqplot>=0.10.1->vaex-jupyter<0.6,>=0.5.0->vaex) (0.1.0)\n",
      "Requirement already satisfied: pickleshare in /Users/swoo/.pyenv/versions/anaconda3-2019.10/lib/python3.7/site-packages (from ipython>=4.0.0; python_version >= \"3.3\"->ipywidgets>=7.5.0->bqplot>=0.10.1->vaex-jupyter<0.6,>=0.5.0->vaex) (0.7.5)\n",
      "Requirement already satisfied: prompt-toolkit<2.1.0,>=2.0.0 in /Users/swoo/.pyenv/versions/anaconda3-2019.10/lib/python3.7/site-packages (from ipython>=4.0.0; python_version >= \"3.3\"->ipywidgets>=7.5.0->bqplot>=0.10.1->vaex-jupyter<0.6,>=0.5.0->vaex) (2.0.10)\n",
      "Requirement already satisfied: pygments in /Users/swoo/.pyenv/versions/anaconda3-2019.10/lib/python3.7/site-packages (from ipython>=4.0.0; python_version >= \"3.3\"->ipywidgets>=7.5.0->bqplot>=0.10.1->vaex-jupyter<0.6,>=0.5.0->vaex) (2.4.2)\n",
      "Requirement already satisfied: jedi>=0.10 in /Users/swoo/.pyenv/versions/anaconda3-2019.10/lib/python3.7/site-packages (from ipython>=4.0.0; python_version >= \"3.3\"->ipywidgets>=7.5.0->bqplot>=0.10.1->vaex-jupyter<0.6,>=0.5.0->vaex) (0.15.1)\n",
      "Requirement already satisfied: jupyter-core in /Users/swoo/.pyenv/versions/anaconda3-2019.10/lib/python3.7/site-packages (from nbformat>=4.2.0->ipywidgets>=7.5.0->bqplot>=0.10.1->vaex-jupyter<0.6,>=0.5.0->vaex) (4.5.0)\n",
      "Requirement already satisfied: jsonschema!=2.5.0,>=2.4 in /Users/swoo/.pyenv/versions/anaconda3-2019.10/lib/python3.7/site-packages (from nbformat>=4.2.0->ipywidgets>=7.5.0->bqplot>=0.10.1->vaex-jupyter<0.6,>=0.5.0->vaex) (3.0.2)\n",
      "Requirement already satisfied: pyzmq>=13 in /Users/swoo/.pyenv/versions/anaconda3-2019.10/lib/python3.7/site-packages (from jupyter-client->ipykernel>=4.7->ipympl->vaex-jupyter<0.6,>=0.5.0->vaex) (18.1.0)\n",
      "Requirement already satisfied: terminado>=0.8.1 in /Users/swoo/.pyenv/versions/anaconda3-2019.10/lib/python3.7/site-packages (from notebook>=4.4.1->widgetsnbextension~=3.5.0->ipywidgets>=7.5.0->bqplot>=0.10.1->vaex-jupyter<0.6,>=0.5.0->vaex) (0.8.2)\n",
      "Requirement already satisfied: nbconvert in /Users/swoo/.pyenv/versions/anaconda3-2019.10/lib/python3.7/site-packages (from notebook>=4.4.1->widgetsnbextension~=3.5.0->ipywidgets>=7.5.0->bqplot>=0.10.1->vaex-jupyter<0.6,>=0.5.0->vaex) (5.6.0)\n"
     ]
    },
    {
     "name": "stdout",
     "output_type": "stream",
     "text": [
      "Requirement already satisfied: Send2Trash in /Users/swoo/.pyenv/versions/anaconda3-2019.10/lib/python3.7/site-packages (from notebook>=4.4.1->widgetsnbextension~=3.5.0->ipywidgets>=7.5.0->bqplot>=0.10.1->vaex-jupyter<0.6,>=0.5.0->vaex) (1.5.0)\n",
      "Requirement already satisfied: prometheus-client in /Users/swoo/.pyenv/versions/anaconda3-2019.10/lib/python3.7/site-packages (from notebook>=4.4.1->widgetsnbextension~=3.5.0->ipywidgets>=7.5.0->bqplot>=0.10.1->vaex-jupyter<0.6,>=0.5.0->vaex) (0.7.1)\n",
      "Requirement already satisfied: ptyprocess>=0.5 in /Users/swoo/.pyenv/versions/anaconda3-2019.10/lib/python3.7/site-packages (from pexpect; sys_platform != \"win32\"->ipython>=4.0.0; python_version >= \"3.3\"->ipywidgets>=7.5.0->bqplot>=0.10.1->vaex-jupyter<0.6,>=0.5.0->vaex) (0.6.0)\n",
      "Requirement already satisfied: wcwidth in /Users/swoo/.pyenv/versions/anaconda3-2019.10/lib/python3.7/site-packages (from prompt-toolkit<2.1.0,>=2.0.0->ipython>=4.0.0; python_version >= \"3.3\"->ipywidgets>=7.5.0->bqplot>=0.10.1->vaex-jupyter<0.6,>=0.5.0->vaex) (0.1.7)\n",
      "Requirement already satisfied: parso>=0.5.0 in /Users/swoo/.pyenv/versions/anaconda3-2019.10/lib/python3.7/site-packages (from jedi>=0.10->ipython>=4.0.0; python_version >= \"3.3\"->ipywidgets>=7.5.0->bqplot>=0.10.1->vaex-jupyter<0.6,>=0.5.0->vaex) (0.5.1)\n",
      "Requirement already satisfied: pyrsistent>=0.14.0 in /Users/swoo/.pyenv/versions/anaconda3-2019.10/lib/python3.7/site-packages (from jsonschema!=2.5.0,>=2.4->nbformat>=4.2.0->ipywidgets>=7.5.0->bqplot>=0.10.1->vaex-jupyter<0.6,>=0.5.0->vaex) (0.15.4)\n",
      "Requirement already satisfied: attrs>=17.4.0 in /Users/swoo/.pyenv/versions/anaconda3-2019.10/lib/python3.7/site-packages (from jsonschema!=2.5.0,>=2.4->nbformat>=4.2.0->ipywidgets>=7.5.0->bqplot>=0.10.1->vaex-jupyter<0.6,>=0.5.0->vaex) (19.2.0)\n",
      "Requirement already satisfied: testpath in /Users/swoo/.pyenv/versions/anaconda3-2019.10/lib/python3.7/site-packages (from nbconvert->notebook>=4.4.1->widgetsnbextension~=3.5.0->ipywidgets>=7.5.0->bqplot>=0.10.1->vaex-jupyter<0.6,>=0.5.0->vaex) (0.4.2)\n",
      "Requirement already satisfied: defusedxml in /Users/swoo/.pyenv/versions/anaconda3-2019.10/lib/python3.7/site-packages (from nbconvert->notebook>=4.4.1->widgetsnbextension~=3.5.0->ipywidgets>=7.5.0->bqplot>=0.10.1->vaex-jupyter<0.6,>=0.5.0->vaex) (0.6.0)\n",
      "Requirement already satisfied: entrypoints>=0.2.2 in /Users/swoo/.pyenv/versions/anaconda3-2019.10/lib/python3.7/site-packages (from nbconvert->notebook>=4.4.1->widgetsnbextension~=3.5.0->ipywidgets>=7.5.0->bqplot>=0.10.1->vaex-jupyter<0.6,>=0.5.0->vaex) (0.3)\n",
      "Requirement already satisfied: bleach in /Users/swoo/.pyenv/versions/anaconda3-2019.10/lib/python3.7/site-packages (from nbconvert->notebook>=4.4.1->widgetsnbextension~=3.5.0->ipywidgets>=7.5.0->bqplot>=0.10.1->vaex-jupyter<0.6,>=0.5.0->vaex) (3.1.0)\n",
      "Requirement already satisfied: pandocfilters>=1.4.1 in /Users/swoo/.pyenv/versions/anaconda3-2019.10/lib/python3.7/site-packages (from nbconvert->notebook>=4.4.1->widgetsnbextension~=3.5.0->ipywidgets>=7.5.0->bqplot>=0.10.1->vaex-jupyter<0.6,>=0.5.0->vaex) (1.4.2)\n",
      "Requirement already satisfied: mistune<2,>=0.8.1 in /Users/swoo/.pyenv/versions/anaconda3-2019.10/lib/python3.7/site-packages (from nbconvert->notebook>=4.4.1->widgetsnbextension~=3.5.0->ipywidgets>=7.5.0->bqplot>=0.10.1->vaex-jupyter<0.6,>=0.5.0->vaex) (0.8.4)\n",
      "Requirement already satisfied: webencodings in /Users/swoo/.pyenv/versions/anaconda3-2019.10/lib/python3.7/site-packages (from bleach->nbconvert->notebook>=4.4.1->widgetsnbextension~=3.5.0->ipywidgets>=7.5.0->bqplot>=0.10.1->vaex-jupyter<0.6,>=0.5.0->vaex) (0.5.1)\n",
      "Building wheels for collected packages: aplus, s3fs, boto3\n",
      "  Building wheel for aplus (setup.py) ... \u001b[?25ldone\n",
      "\u001b[?25h  Created wheel for aplus: filename=aplus-0.11.0-cp37-none-any.whl size=4412 sha256=88d16fbe29d245ed5c7cb8b727570e8ce653b320c916a49256eceb76c0165a49\n",
      "  Stored in directory: /Users/swoo/Library/Caches/pip/wheels/77/95/8a/ccc1d85d9cabd162a537be5ad77f95d109170df37b49c0ca21\n",
      "  Building wheel for s3fs (setup.py) ... \u001b[?25ldone\n",
      "\u001b[?25h  Created wheel for s3fs: filename=s3fs-0.2.2-py2.py3-none-any.whl size=20710 sha256=a7847338426a8116392416d02caf2402010c6b95a5c06173a73ade37e373e238\n",
      "  Stored in directory: /Users/swoo/Library/Caches/pip/wheels/94/20/c9/b0256fe423de22bca83518fe0f7eba34ae1b9591a9d8c2d3b4\n",
      "  Building wheel for boto3 (setup.py) ... \u001b[?25ldone\n",
      "\u001b[?25h  Created wheel for boto3: filename=boto3-1.16.48-py2.py3-none-any.whl size=128709 sha256=24935d382e76751e6248d6e96acb68e6d7c6de814f3b684184d6ce33b9e48e7e\n",
      "  Stored in directory: /Users/swoo/Library/Caches/pip/wheels/29/5e/24/c13b555a2c0978dfc167c07c1f2f5e338cb44a5e8ea467ea42\n",
      "Successfully built aplus s3fs boto3\n",
      "\u001b[31mERROR: botocore 1.19.48 has requirement urllib3<1.27,>=1.25.4; python_version != \"3.4\", but you'll have urllib3 1.24.2 which is incompatible.\u001b[0m\n",
      "\u001b[31mERROR: ipympl 0.6.1 has requirement ipywidgets>=7.6.0, but you'll have ipywidgets 7.5.1 which is incompatible.\u001b[0m\n",
      "Installing collected packages: nest-asyncio, tabulate, aplus, python-utils, progressbar2, vaex-core, vaex-astro, xarray, traittypes, bqplot, ipyvue, ipyvuetify, shapely, branca, ipyleaflet, ipywebrtc, ipydatawidgets, pythreejs, ipyvolume, vaex-viz, ipympl, vaex-jupyter, vaex-arrow, vaex-server, vaex-ml, botocore, s3transfer, boto3, s3fs, vaex-hdf5, vaex\n",
      "  Found existing installation: botocore 1.8.50\n",
      "    Uninstalling botocore-1.8.50:\n",
      "      Successfully uninstalled botocore-1.8.50\n",
      "  Found existing installation: s3transfer 0.1.13\n",
      "    Uninstalling s3transfer-0.1.13:\n",
      "      Successfully uninstalled s3transfer-0.1.13\n",
      "  Found existing installation: boto3 1.4.8\n",
      "    Uninstalling boto3-1.4.8:\n",
      "      Successfully uninstalled boto3-1.4.8\n",
      "Successfully installed aplus-0.11.0 boto3-1.16.48 botocore-1.19.48 bqplot-0.12.19 branca-0.4.2 ipydatawidgets-4.2.0 ipyleaflet-0.13.4 ipympl-0.6.1 ipyvolume-0.5.2 ipyvue-1.4.1 ipyvuetify-1.5.1 ipywebrtc-0.5.0 nest-asyncio-1.4.3 progressbar2-3.53.1 python-utils-2.4.0 pythreejs-2.2.1 s3fs-0.2.2 s3transfer-0.3.3 shapely-1.7.1 tabulate-0.8.7 traittypes-0.2.1 vaex-3.0.0 vaex-arrow-0.5.1 vaex-astro-0.7.0 vaex-core-2.0.3 vaex-hdf5-0.6.0 vaex-jupyter-0.5.2 vaex-ml-0.9.0 vaex-server-0.3.1 vaex-viz-0.4.0 xarray-0.16.2\n"
     ]
    }
   ],
   "source": [
    "!pip install vaex\n",
    "\n",
    "!pip install modin\n",
    "\n",
    "!pip install dask\n",
    "\n",
    "!pip install modin[dask]\n",
    "\n",
    "!pip install dask[dataframe]"
   ]
  },
  {
   "cell_type": "code",
   "execution_count": 7,
   "metadata": {},
   "outputs": [],
   "source": [
    "import pandas as pd\n",
    "import modin.pandas as mp              #modin 예제에선 mp가 아닌 pandas와 같은 pd 를 사용합니다.\n",
    "import dask.dataframe as dd\n",
    "import vaex\n",
    "import numpy as np"
   ]
  },
  {
   "cell_type": "code",
   "execution_count": 9,
   "metadata": {},
   "outputs": [
    {
     "name": "stdout",
     "output_type": "stream",
     "text": [
      "CPU times: user 19.6 s, sys: 2.66 s, total: 22.3 s\n",
      "Wall time: 22.3 s\n",
      "CPU times: user 13.7 ms, sys: 4.02 ms, total: 17.8 ms\n",
      "Wall time: 125 ms\n",
      "CPU times: user 1.15 s, sys: 625 ms, total: 1.78 s\n",
      "Wall time: 13.5 s\n",
      "CPU times: user 21.5 s, sys: 2.18 s, total: 23.7 s\n",
      "Wall time: 23.8 s\n"
     ]
    }
   ],
   "source": [
    "%time pandas_df = pd.read_csv('data.csv')\n",
    "%time dask_df = dd.read_csv('data.csv')\n",
    "%time modin_df = mp.read_csv('data.csv')\n",
    "%time vaex_df = vaex.from_csv('data.csv')"
   ]
  },
  {
   "cell_type": "markdown",
   "metadata": {},
   "source": [
    "dask는 연산을 진행하지 않고 lazy하게 처리해서 빨라보이지만, 실제 연산은 더 오래걸린다고 볼 수 있음.\n",
    "장점은 메모리 이상의 데이터를 로드 할 수 있다는 점."
   ]
  },
  {
   "cell_type": "code",
   "execution_count": 16,
   "metadata": {},
   "outputs": [
    {
     "name": "stdout",
     "output_type": "stream",
     "text": [
      "CPU times: user 472 ms, sys: 38.8 ms, total: 511 ms\n",
      "Wall time: 506 ms\n",
      "CPU times: user 8.52 ms, sys: 355 µs, total: 8.87 ms\n",
      "Wall time: 8.64 ms\n"
     ]
    },
    {
     "name": "stderr",
     "output_type": "stream",
     "text": [
      "\u001b[2m\u001b[36m(pid=87663)\u001b[0m FutureWarning: The `squeeze` parameter is deprecated and will be removed in a future version.\n"
     ]
    },
    {
     "name": "stdout",
     "output_type": "stream",
     "text": [
      "CPU times: user 170 ms, sys: 16.5 ms, total: 187 ms\n",
      "Wall time: 1.43 s\n"
     ]
    },
    {
     "data": {
      "text/plain": [
       "Source.IP       Destination.IP  Destination.Port\n",
       "10.120.1.191    10.200.7.4      3128                2\n",
       "                10.200.7.5      3128                4\n",
       "                10.200.7.8      3128                3\n",
       "                10.200.7.9      3128                5\n",
       "10.130.1.139    10.200.7.8      3128                1\n",
       "                                                   ..\n",
       "98.158.99.143   10.200.7.195    54306               1\n",
       "                                54309               1\n",
       "                                54310               1\n",
       "98.158.99.149   10.200.7.195    54496               2\n",
       "99.198.117.213  10.200.7.218    37262               3\n",
       "Length: 340555, dtype: int64"
      ]
     },
     "execution_count": 16,
     "metadata": {},
     "output_type": "execute_result"
    }
   ],
   "source": [
    "columns = ['Source.IP', \"Destination.IP\", \"Destination.Port\"]\n",
    "%time pandas_df.groupby(columns).size()\n",
    "%time dask_df.groupby(columns).size()\n",
    "%time modin_df.groupby(columns).size()\n",
    "#%time vaex_df.groupby(by=['column1','column2','column3'],agg={'column4': vaex.agg.sum('column4'),'column5': vaex.agg.sum('column5'),'column6': vaex.agg.sum('column6'),'column7': vaex.agg.sum('column7'),'column8': vaex.agg.sum('column8')})"
   ]
  },
  {
   "cell_type": "code",
   "execution_count": null,
   "metadata": {},
   "outputs": [],
   "source": []
  }
 ],
 "metadata": {
  "kernelspec": {
   "display_name": "Python 3",
   "language": "python",
   "name": "python3"
  },
  "language_info": {
   "codemirror_mode": {
    "name": "ipython",
    "version": 3
   },
   "file_extension": ".py",
   "mimetype": "text/x-python",
   "name": "python",
   "nbconvert_exporter": "python",
   "pygments_lexer": "ipython3",
   "version": "3.7.4"
  }
 },
 "nbformat": 4,
 "nbformat_minor": 2
}
